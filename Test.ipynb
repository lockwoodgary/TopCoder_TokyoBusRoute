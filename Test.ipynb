{
 "cells": [
  {
   "cell_type": "code",
   "execution_count": 1,
   "metadata": {},
   "outputs": [],
   "source": [
    "import json\n",
    "import numpy as np \n",
    "from matplotlib import path as mplPath\n",
    "import matplotlib.pyplot as plt "
   ]
  },
  {
   "cell_type": "code",
   "execution_count": 2,
   "metadata": {},
   "outputs": [],
   "source": [
    "input_fn = f'data/example.in'\n",
    "\n",
    "usr_input = open(input_fn, 'r').read()\n",
    "\n",
    "with open(input_fn, 'r') as f:\n",
    "    agegroups = np.array([int(x) for x in f.readline().split(',')])\n",
    "    total_budget = float(f.readline())\n",
    "    popgeo_fn = f.readline().rstrip().replace('\\\\', '/')\n",
    "    routegeo_fn = f.readline().rstrip().replace('\\\\', '/')\n",
    "    active_fn = f.readline().rstrip().replace('\\\\', '/')"
   ]
  },
  {
   "cell_type": "code",
   "execution_count": 3,
   "metadata": {},
   "outputs": [],
   "source": [
    "# Convert age groups to one-hot encoding\n",
    "num_classes = 6\n",
    "agegroups_one_hot = np.eye(num_classes)[agegroups]\n",
    "agegroups_one_hot = agegroups_one_hot.sum(axis=0).reshape(num_classes,1)\n",
    "\n",
    "for v in agegroups_one_hot:\n",
    "    assert(v[0] <= 1)\n",
    "\n",
    "del agegroups"
   ]
  },
  {
   "cell_type": "code",
   "execution_count": 4,
   "metadata": {},
   "outputs": [],
   "source": [
    "# Get timezone ratio values\n",
    "import pandas as pd \n",
    "\n",
    "df = pd.read_csv(f'{active_fn}')\n",
    "tz_ratio_array = df.values\n",
    "\n",
    "del df"
   ]
  },
  {
   "cell_type": "code",
   "execution_count": 5,
   "metadata": {},
   "outputs": [],
   "source": [
    "with open(f'{routegeo_fn}', 'rb') as f:\n",
    "    route_data = json.load(f)\n",
    "\n",
    "with open(f'{popgeo_fn}', 'rb') as f:\n",
    "    pop_data = json.load(f)"
   ]
  },
  {
   "cell_type": "code",
   "execution_count": 6,
   "metadata": {},
   "outputs": [
    {
     "name": "stdout",
     "output_type": "stream",
     "text": [
      "[[[139.84984, 35.69470417], [139.84999417, 35.69461861], [139.85028111, 35.69460139], [139.85080778, 35.694597], [139.85153306, 35.6946425], [139.85152709, 35.69506059], [139.85152639, 35.69534556], [139.85150583, 35.69580917], [139.8514925, 35.69590806], [139.85110111, 35.6965025], [139.850898, 35.69680375], [139.85054558, 35.69726027], [139.85037028, 35.69715028], [139.84961977, 35.69639936], [139.84899083, 35.69618083], [139.84865567, 35.69594045], [139.84893347, 35.69561981], [139.84928639, 35.69525972], [139.84984, 35.69470417]], [[139.84856549, 35.68965997], [139.84832833, 35.68977611], [139.84835389, 35.69027], [139.84845152, 35.69089166], [139.84847801, 35.6910603], [139.84848806, 35.6919425], [139.84846651, 35.69225391], [139.84842417, 35.69286583], [139.84841981, 35.69291944], [139.84836139, 35.69363778], [139.84843252, 35.69367635], [139.84984, 35.69470417]]]\n",
      "{'RouteID': 89, 'Cost': 800000, 'TZ1_Max': 0, 'TZ2_Max': 1, 'TZ3_Max': 1, 'TZ4_Max': 1, 'course_Name': 'AL01', 'length': 1507}\n"
     ]
    }
   ],
   "source": [
    "# Preview the first route data\n",
    "print(route_data['features'][0]['geometry']['coordinates'])\n",
    "print(route_data['features'][0]['properties'])"
   ]
  },
  {
   "cell_type": "code",
   "execution_count": 7,
   "metadata": {},
   "outputs": [
    {
     "name": "stdout",
     "output_type": "stream",
     "text": [
      "[[[[153.975, 24.291666666666668], [153.975, 24.295833333333334], [153.98125, 24.295833333333334], [153.98125, 24.291666666666668], [153.975, 24.291666666666668]]]]\n",
      "{'MESH_ID': 365337581, 'G1_TZ1': 75.3229, 'G1_TZ2': 63.0104, 'G1_TZ3': 0.0, 'G1_TZ4': 0.0, 'G2_TZ1': 0.0, 'G2_TZ2': 0.0, 'G2_TZ3': 0.0, 'G2_TZ4': 4.5745, 'G3_TZ1': 1.3558, 'G3_TZ2': 9.2874, 'G3_TZ3': 7.5396, 'G3_TZ4': 15.3359, 'G4_TZ1': 15.5649, 'G4_TZ2': 4.2374, 'G4_TZ3': 4.2073, 'G4_TZ4': 354089463.7822, 'G5_TZ1': 16.1953, 'G5_TZ2': 4.2566, 'G5_TZ3': 3.9962, 'G5_TZ4': 4.1598, 'G6_TZ1': 16.1567, 'G6_TZ2': 4.5224, 'G6_TZ3': 4.4152, 'G6_TZ4': 4.1574}\n"
     ]
    }
   ],
   "source": [
    "# Preview the first grid data\n",
    "print(pop_data['features'][0]['geometry']['coordinates'])\n",
    "print(pop_data['features'][0]['properties'])"
   ]
  },
  {
   "cell_type": "code",
   "execution_count": 8,
   "metadata": {},
   "outputs": [],
   "source": [
    "# Create Route and Grid classes for readability\n",
    "class Route:\n",
    "    def __init__(self, route_id, coords, cost, tz_max_buses_dict):\n",
    "        self.route_id = route_id\n",
    "        self.coords = np.array(self.flattenCoords(coords))\n",
    "        self.cost = float(cost)\n",
    "        self.tz_max_buses_dict = self.convertToMaxPerTz(tz_max_buses_dict)\n",
    "        self.pop_per_tz_agegroup_array = np.zeros((6,4))\n",
    "        \n",
    "    def flattenCoords(self, coords):\n",
    "        return [ coord for sublist in coords for coord in sublist ]\n",
    "\n",
    "    def convertToMaxPerTz(self, tz_max_buses_dict):\n",
    "        # Multiply the max value per hour by the number of hours in the tz\n",
    "        tz_max_buses_dict['TZ1_Max'] = int(tz_max_buses_dict['TZ1_Max'] * 10)\n",
    "        tz_max_buses_dict['TZ2_Max'] = int(tz_max_buses_dict['TZ2_Max'] *2)\n",
    "        tz_max_buses_dict['TZ3_Max'] = int(tz_max_buses_dict['TZ3_Max'] * 8)\n",
    "        tz_max_buses_dict['TZ4_Max'] = int(tz_max_buses_dict['TZ4_Max'] * 4)\n",
    "        return tz_max_buses_dict\n",
    "    \n",
    "    def updateGridsInside(self, grids_dict):\n",
    "        self.grid_ids = []\n",
    "        for key,grid in grids_dict.items():\n",
    "            if any(grid.containsPoints(self.coords)):\n",
    "                self.grid_ids.append(key)\n",
    "    \n",
    "    def updatePopPerTZVector(self, grids_dict):\n",
    "        assert(len(self.grid_ids) > 0)\n",
    "        \n",
    "        for grid_id in self.grid_ids:\n",
    "            self.pop_per_tz_agegroup_array += grids_dict[grid_id].agegroup_tz_array\n",
    "        \n",
    "        self.pop_per_tz_vector = self.pop_per_tz_agegroup_array.sum(axis=0)"
   ]
  },
  {
   "cell_type": "code",
   "execution_count": 9,
   "metadata": {},
   "outputs": [],
   "source": [
    "class Grid:\n",
    "    def __init__(self, mesh_id, path, agegroup_tz_array, tz_ratio_array, agegroups_one_hot):\n",
    "        self.mesh_id = mesh_id\n",
    "        self.path = self.convertPath(path)\n",
    "        self.agegroup_tz_array = agegroup_tz_array*tz_ratio_array*agegroups_one_hot\n",
    "    \n",
    "    def convertPath(self, path):\n",
    "        # Flatten first\n",
    "        while True:\n",
    "            if len(path) == 1:\n",
    "                path = path[0]\n",
    "            else:\n",
    "                break\n",
    "        return mplPath.Path(np.array(path), closed=True) # Convert to mpl Path object\n",
    "    \n",
    "    def containsPoint(self, point):\n",
    "        return self.path.contains_point(point)\n",
    "    \n",
    "    def containsPoints(self, points):\n",
    "        return self.path.contains_points(points)"
   ]
  },
  {
   "cell_type": "code",
   "execution_count": 10,
   "metadata": {},
   "outputs": [],
   "source": [
    "routes = []\n",
    "for feature in route_data['features']:\n",
    "    route_id = feature['properties']['RouteID']\n",
    "    coords = feature['geometry']['coordinates']\n",
    "    cost = feature['properties']['Cost']\n",
    "    tz_max_buses_dict = { k:feature['properties'][k] for k in ['TZ1_Max','TZ2_Max','TZ3_Max','TZ4_Max'] }\n",
    "    routes.append(Route(route_id, coords, cost, tz_max_buses_dict))\n",
    "    \n",
    "del route_data"
   ]
  },
  {
   "cell_type": "code",
   "execution_count": 11,
   "metadata": {},
   "outputs": [],
   "source": [
    "grids_dict = {}\n",
    "for feature in pop_data['features']:\n",
    "    mesh_id = feature['properties']['MESH_ID']\n",
    "    path = feature['geometry']['coordinates']\n",
    "    agegroup_tz_array = np.array([[ feature['properties']['G1_TZ1'], feature['properties']['G1_TZ2'], feature['properties']['G1_TZ3'], feature['properties']['G1_TZ4'] ],\n",
    "                                  [ feature['properties']['G2_TZ1'], feature['properties']['G2_TZ2'], feature['properties']['G2_TZ3'], feature['properties']['G2_TZ4'] ],\n",
    "                                  [ feature['properties']['G3_TZ1'], feature['properties']['G3_TZ2'], feature['properties']['G3_TZ3'], feature['properties']['G3_TZ4'] ],\n",
    "                                  [ feature['properties']['G4_TZ1'], feature['properties']['G4_TZ2'], feature['properties']['G4_TZ3'], feature['properties']['G4_TZ4'] ],\n",
    "                                  [ feature['properties']['G5_TZ1'], feature['properties']['G5_TZ2'], feature['properties']['G5_TZ3'], feature['properties']['G5_TZ4'] ],\n",
    "                                  [ feature['properties']['G6_TZ1'], feature['properties']['G6_TZ2'], feature['properties']['G6_TZ3'], feature['properties']['G6_TZ4'] ]])\n",
    "    grids_dict[str(mesh_id)] = Grid(mesh_id, path, agegroup_tz_array, tz_ratio_array, agegroups_one_hot)"
   ]
  },
  {
   "cell_type": "code",
   "execution_count": 12,
   "metadata": {},
   "outputs": [
    {
     "name": "stdout",
     "output_type": "stream",
     "text": [
      "Number of Routes: 152\n",
      "Number of Grids: 5311\n"
     ]
    }
   ],
   "source": [
    "print(f'Number of Routes: {len(routes)}')\n",
    "print(f'Number of Grids: {len(grids_dict)}')"
   ]
  },
  {
   "cell_type": "code",
   "execution_count": 13,
   "metadata": {},
   "outputs": [
    {
     "name": "stdout",
     "output_type": "stream",
     "text": [
      "Example for first routes' grid_ids: ['533946274', '533946372', '533946374', '533946381', '533946383']\n"
     ]
    }
   ],
   "source": [
    "for route in routes:\n",
    "    route.updateGridsInside(grids_dict)\n",
    "\n",
    "print(f'Example for first routes\\' grid_ids: {routes[0].grid_ids}')"
   ]
  },
  {
   "cell_type": "code",
   "execution_count": 14,
   "metadata": {},
   "outputs": [
    {
     "data": {
      "image/png": "[encoded data removed]",
      "text/plain": [
       "<Figure size 432x288 with 1 Axes>"
      ]
     },
     "metadata": {
      "needs_background": "light"
     },
     "output_type": "display_data"
    }
   ],
   "source": [
    "# Test our Grids and ability to detect points inside/outside with the first route\n",
    "import matplotlib.patches as patches\n",
    "from matplotlib.collections import PathCollection\n",
    "\n",
    "points = routes[0].coords\n",
    "\n",
    "fig, ax = plt.subplots()\n",
    "\n",
    "colors = ['green', 'red', 'blue', 'orange', 'grey']\n",
    "for i,grid_id in enumerate(routes[0].grid_ids):\n",
    "    ax.add_patch(patches.PathPatch(grids_dict[grid_id].path, facecolor=colors[i], lw=1, alpha=0.2))\n",
    "\n",
    "for point in points:\n",
    "    ax.plot(point[0], point[1], 'bo', alpha=0.25)\n",
    "\n",
    "ax.autoscale_view()\n",
    "plt.show()"
   ]
  },
  {
   "cell_type": "code",
   "execution_count": 15,
   "metadata": {},
   "outputs": [],
   "source": [
    "for route in routes:\n",
    "    route.updatePopPerTZVector(grids_dict)\n",
    "\n",
    "del grids_dict"
   ]
  },
  {
   "cell_type": "code",
   "execution_count": 16,
   "metadata": {},
   "outputs": [
    {
     "name": "stdout",
     "output_type": "stream",
     "text": [
      "First route's route_id: 89\n",
      "First route's agegroup_tz_per_cost_array:\n",
      "[ 798.20554 3117.67232 1788.51936 3649.35648]\n"
     ]
    }
   ],
   "source": [
    "# Preview the first route's population outside by its agegroup and timezone array\n",
    "# Note: we have already removed agegroups we are not interested in\n",
    "print(f'First route\\'s route_id: {routes[0].route_id}')\n",
    "print(f'First route\\'s agegroup_tz_per_cost_array:')\n",
    "print(routes[0].pop_per_tz_vector)\n",
    "\n",
    "# agegroup_tz_per_cost_array structure:\n",
    "# np.array(['pop_per_cost_unit_TZ1','pop_per_cost_unit_TZ2','pop_per_cost_unit_TZ3','pop_per_cost_unit_TZ4'])"
   ]
  },
  {
   "cell_type": "code",
   "execution_count": 17,
   "metadata": {},
   "outputs": [],
   "source": [
    "# Combine all route and tz data into a DataFrame for easy analysis\n",
    "routes_by_tz_df = pd.DataFrame()\n",
    "for route in routes:\n",
    "    for tz_idx,total_pop in enumerate(route.pop_per_tz_vector):\n",
    "        if total_pop > 0:\n",
    "            routes_by_tz_df = routes_by_tz_df.append({'route_id':route.route_id, \n",
    "                                                      'tz':tz_idx+1,\n",
    "                                                      'cost':route.cost,\n",
    "                                                      'total_pop':total_pop,\n",
    "                                                      'max_buses':route.tz_max_buses_dict[f'TZ{tz_idx+1}_Max']}, ignore_index=True)\n",
    "\n",
    "routes_by_tz_df['pop_per_cost'] = routes_by_tz_df['total_pop'] / routes_by_tz_df['cost']\n",
    "routes_by_tz_df = routes_by_tz_df.sort_values('pop_per_cost', ascending=False).reset_index(drop=True)"
   ]
  },
  {
   "cell_type": "code",
   "execution_count": 18,
   "metadata": {},
   "outputs": [
    {
     "name": "stdout",
     "output_type": "stream",
     "text": [
      "        cost  max_buses  route_id    total_pop   tz  pop_per_cost\n",
      "0   600000.0        4.0     142.0  21563.90112  4.0      0.035940\n",
      "1   600000.0        2.0     142.0  20159.07952  2.0      0.033598\n",
      "2   800000.0        4.0     126.0  25518.22368  4.0      0.031898\n",
      "3  1200000.0        8.0      72.0  34638.65248  4.0      0.028866\n",
      "4   800000.0        4.0     100.0  22695.75824  4.0      0.028370\n"
     ]
    }
   ],
   "source": [
    "print(routes_by_tz_df.head())"
   ]
  },
  {
   "cell_type": "code",
   "execution_count": 19,
   "metadata": {},
   "outputs": [],
   "source": [
    "min_cost = min(routes_by_tz_df.cost)\n",
    "\n",
    "budget_left = total_budget\n",
    "\n",
    "rte_ids, tzs = [],[]\n",
    "for i,row in routes_by_tz_df.iterrows():\n",
    "    if budget_left < min_cost:\n",
    "        break\n",
    "        \n",
    "    max_buses = row['max_buses']\n",
    "    while (budget_left > row['cost'] and max_buses > 0):\n",
    "        rte_ids.append(int(row['route_id']))\n",
    "        tzs.append(int(row['tz']))\n",
    "        budget_left -= row['cost']\n",
    "        max_buses -= 1"
   ]
  },
  {
   "cell_type": "code",
   "execution_count": 20,
   "metadata": {},
   "outputs": [
    {
     "name": "stdout",
     "output_type": "stream",
     "text": [
      "142, 4\n",
      "142, 4\n",
      "142, 4\n",
      "142, 4\n",
      "142, 2\n",
      "142, 2\n",
      "126, 4\n",
      "126, 4\n",
      "126, 4\n",
      "126, 4\n",
      "72, 4\n",
      "72, 4\n",
      "142, 3\n"
     ]
    }
   ],
   "source": [
    "for i in range(len(rte_ids)):\n",
    "    print(f'{rte_ids[i]}, {tzs[i]}')"
   ]
  },
  {
   "cell_type": "code",
   "execution_count": 21,
   "metadata": {},
   "outputs": [
    {
     "name": "stdout",
     "output_type": "stream",
     "text": [
      "10000000.0\n",
      "200000.0\n",
      "600000.0\n"
     ]
    }
   ],
   "source": [
    "print(total_budget)\n",
    "print(budget_left)\n",
    "print(min_cost)"
   ]
  },
  {
   "cell_type": "code",
   "execution_count": null,
   "metadata": {},
   "outputs": [],
   "source": []
  }
 ],
 "metadata": {
  "kernelspec": {
   "display_name": "Python 3",
   "language": "python",
   "name": "python3"
  },
  "language_info": {
   "codemirror_mode": {
    "name": "ipython",
    "version": 3
   },
   "file_extension": ".py",
   "mimetype": "text/x-python",
   "name": "python",
   "nbconvert_exporter": "python",
   "pygments_lexer": "ipython3",
   "version": "3.7.3"
  }
 },
 "nbformat": 4,
 "nbformat_minor": 2
}
